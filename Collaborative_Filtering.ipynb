{
  "nbformat": 4,
  "nbformat_minor": 0,
  "metadata": {
    "colab": {
      "provenance": [],
      "mount_file_id": "1JgH4ejdL8RU8pGl3liLf63REhfdnuLnO",
      "authorship_tag": "ABX9TyPqwawd3SB1zhKmE0cX4YyC",
      "include_colab_link": true
    },
    "kernelspec": {
      "name": "python3",
      "display_name": "Python 3"
    },
    "language_info": {
      "name": "python"
    }
  },
  "cells": [
    {
      "cell_type": "markdown",
      "metadata": {
        "id": "view-in-github",
        "colab_type": "text"
      },
      "source": [
        "<a href=\"https://colab.research.google.com/github/iamNirmeshGupta/Collaborative-Filtering-With-PySpark/blob/main/Collaborative_Filtering.ipynb\" target=\"_parent\"><img src=\"https://colab.research.google.com/assets/colab-badge.svg\" alt=\"Open In Colab\"/></a>"
      ]
    },
    {
      "cell_type": "code",
      "execution_count": 1,
      "metadata": {
        "colab": {
          "base_uri": "https://localhost:8080/"
        },
        "id": "nJ5rOTK0O9Zo",
        "outputId": "d12a15a8-1634-4e66-87c6-d92fb154388e"
      },
      "outputs": [
        {
          "output_type": "stream",
          "name": "stdout",
          "text": [
            "Collecting pyspark\n",
            "  Downloading pyspark-3.4.1.tar.gz (310.8 MB)\n",
            "\u001b[2K     \u001b[90m━━━━━━━━━━━━━━━━━━━━━━━━━━━━━━━━━━━━━━━\u001b[0m \u001b[32m310.8/310.8 MB\u001b[0m \u001b[31m3.6 MB/s\u001b[0m eta \u001b[36m0:00:00\u001b[0m\n",
            "\u001b[?25h  Preparing metadata (setup.py) ... \u001b[?25l\u001b[?25hdone\n",
            "Requirement already satisfied: py4j==0.10.9.7 in /usr/local/lib/python3.10/dist-packages (from pyspark) (0.10.9.7)\n",
            "Building wheels for collected packages: pyspark\n",
            "  Building wheel for pyspark (setup.py) ... \u001b[?25l\u001b[?25hdone\n",
            "  Created wheel for pyspark: filename=pyspark-3.4.1-py2.py3-none-any.whl size=311285397 sha256=92e610aa3821f8185529cb97a6c3c279de2f1984d738bd44545fbfb8877be6e3\n",
            "  Stored in directory: /root/.cache/pip/wheels/0d/77/a3/ff2f74cc9ab41f8f594dabf0579c2a7c6de920d584206e0834\n",
            "Successfully built pyspark\n",
            "Installing collected packages: pyspark\n",
            "Successfully installed pyspark-3.4.1\n"
          ]
        }
      ],
      "source": [
        "! pip install pyspark"
      ]
    },
    {
      "cell_type": "code",
      "source": [
        "from pyspark.sql import SparkSession\n",
        "spark = SparkSession.builder.appName(\"collaborative filtering\").getOrCreate()"
      ],
      "metadata": {
        "id": "M_jgwIBYdLT6"
      },
      "execution_count": 2,
      "outputs": []
    },
    {
      "cell_type": "code",
      "source": [
        "movies_df = spark.read.options(header=\"True\", inferSchema=\"True\").csv(\"/content/drive/MyDrive/Colab Notebooks/Pyspark/Collaborative Filtering/movies.csv\")"
      ],
      "metadata": {
        "id": "mhcWe8phe_-z"
      },
      "execution_count": 3,
      "outputs": []
    },
    {
      "cell_type": "code",
      "source": [
        "ratings_df = spark.read.options(header=\"True\", inferSchema=\"True\").csv(\"/content/drive/MyDrive/Colab Notebooks/Pyspark/Collaborative Filtering/ratings.csv\")"
      ],
      "metadata": {
        "id": "I17skDgjf_jO"
      },
      "execution_count": 4,
      "outputs": []
    },
    {
      "cell_type": "code",
      "source": [
        "movies_df.show()\n",
        "ratings_df.show()"
      ],
      "metadata": {
        "colab": {
          "base_uri": "https://localhost:8080/"
        },
        "id": "IiF7gr_ugKRw",
        "outputId": "49f6343b-cf4a-4379-bef0-858b071cdf3e"
      },
      "execution_count": 5,
      "outputs": [
        {
          "output_type": "stream",
          "name": "stdout",
          "text": [
            "+-------+--------------------+--------------------+\n",
            "|movieId|               title|              genres|\n",
            "+-------+--------------------+--------------------+\n",
            "|      1|    Toy Story (1995)|Adventure|Animati...|\n",
            "|      2|      Jumanji (1995)|Adventure|Childre...|\n",
            "|      3|Grumpier Old Men ...|      Comedy|Romance|\n",
            "|      4|Waiting to Exhale...|Comedy|Drama|Romance|\n",
            "|      5|Father of the Bri...|              Comedy|\n",
            "|      6|         Heat (1995)|Action|Crime|Thri...|\n",
            "|      7|      Sabrina (1995)|      Comedy|Romance|\n",
            "|      8| Tom and Huck (1995)|  Adventure|Children|\n",
            "|      9| Sudden Death (1995)|              Action|\n",
            "|     10|    GoldenEye (1995)|Action|Adventure|...|\n",
            "|     11|American Presiden...|Comedy|Drama|Romance|\n",
            "|     12|Dracula: Dead and...|       Comedy|Horror|\n",
            "|     13|        Balto (1995)|Adventure|Animati...|\n",
            "|     14|        Nixon (1995)|               Drama|\n",
            "|     15|Cutthroat Island ...|Action|Adventure|...|\n",
            "|     16|       Casino (1995)|         Crime|Drama|\n",
            "|     17|Sense and Sensibi...|       Drama|Romance|\n",
            "|     18|   Four Rooms (1995)|              Comedy|\n",
            "|     19|Ace Ventura: When...|              Comedy|\n",
            "|     20|  Money Train (1995)|Action|Comedy|Cri...|\n",
            "+-------+--------------------+--------------------+\n",
            "only showing top 20 rows\n",
            "\n",
            "+------+-------+------+---------+\n",
            "|userId|movieId|rating|timestamp|\n",
            "+------+-------+------+---------+\n",
            "|     1|      1|   4.0|964982703|\n",
            "|     1|      3|   4.0|964981247|\n",
            "|     1|      6|   4.0|964982224|\n",
            "|     1|     47|   5.0|964983815|\n",
            "|     1|     50|   5.0|964982931|\n",
            "|     1|     70|   3.0|964982400|\n",
            "|     1|    101|   5.0|964980868|\n",
            "|     1|    110|   4.0|964982176|\n",
            "|     1|    151|   5.0|964984041|\n",
            "|     1|    157|   5.0|964984100|\n",
            "|     1|    163|   5.0|964983650|\n",
            "|     1|    216|   5.0|964981208|\n",
            "|     1|    223|   3.0|964980985|\n",
            "|     1|    231|   5.0|964981179|\n",
            "|     1|    235|   4.0|964980908|\n",
            "|     1|    260|   5.0|964981680|\n",
            "|     1|    296|   3.0|964982967|\n",
            "|     1|    316|   3.0|964982310|\n",
            "|     1|    333|   5.0|964981179|\n",
            "|     1|    349|   4.0|964982563|\n",
            "+------+-------+------+---------+\n",
            "only showing top 20 rows\n",
            "\n"
          ]
        }
      ]
    },
    {
      "cell_type": "code",
      "source": [
        "movies_df.printSchema()"
      ],
      "metadata": {
        "colab": {
          "base_uri": "https://localhost:8080/"
        },
        "id": "JnnBwKa_gV9G",
        "outputId": "58976835-3416-413a-f531-8ea0dea0815e"
      },
      "execution_count": 6,
      "outputs": [
        {
          "output_type": "stream",
          "name": "stdout",
          "text": [
            "root\n",
            " |-- movieId: integer (nullable = true)\n",
            " |-- title: string (nullable = true)\n",
            " |-- genres: string (nullable = true)\n",
            "\n"
          ]
        }
      ]
    },
    {
      "cell_type": "code",
      "source": [
        "ratings_df.printSchema()"
      ],
      "metadata": {
        "colab": {
          "base_uri": "https://localhost:8080/"
        },
        "id": "yZYMB6yngiVM",
        "outputId": "c2c4925b-304e-4195-8ef0-718f5cc0e062"
      },
      "execution_count": 7,
      "outputs": [
        {
          "output_type": "stream",
          "name": "stdout",
          "text": [
            "root\n",
            " |-- userId: integer (nullable = true)\n",
            " |-- movieId: integer (nullable = true)\n",
            " |-- rating: double (nullable = true)\n",
            " |-- timestamp: integer (nullable = true)\n",
            "\n"
          ]
        }
      ]
    },
    {
      "cell_type": "markdown",
      "source": [
        "##Joining The DataFrames"
      ],
      "metadata": {
        "id": "FmemBDwSkhgE"
      }
    },
    {
      "cell_type": "code",
      "source": [
        "df = ratings_df.join(movies_df, \"movieId\", \"left\")"
      ],
      "metadata": {
        "id": "-Zgw79fLgkna"
      },
      "execution_count": 8,
      "outputs": []
    },
    {
      "cell_type": "code",
      "source": [
        "df.show()"
      ],
      "metadata": {
        "colab": {
          "base_uri": "https://localhost:8080/"
        },
        "id": "Y3zC7oo5yNej",
        "outputId": "e6beaaa8-03bf-4b41-d7c1-49e907ee0667"
      },
      "execution_count": 9,
      "outputs": [
        {
          "output_type": "stream",
          "name": "stdout",
          "text": [
            "+-------+------+------+---------+--------------------+--------------------+\n",
            "|movieId|userId|rating|timestamp|               title|              genres|\n",
            "+-------+------+------+---------+--------------------+--------------------+\n",
            "|      1|     1|   4.0|964982703|    Toy Story (1995)|Adventure|Animati...|\n",
            "|      3|     1|   4.0|964981247|Grumpier Old Men ...|      Comedy|Romance|\n",
            "|      6|     1|   4.0|964982224|         Heat (1995)|Action|Crime|Thri...|\n",
            "|     47|     1|   5.0|964983815|Seven (a.k.a. Se7...|    Mystery|Thriller|\n",
            "|     50|     1|   5.0|964982931|Usual Suspects, T...|Crime|Mystery|Thr...|\n",
            "|     70|     1|   3.0|964982400|From Dusk Till Da...|Action|Comedy|Hor...|\n",
            "|    101|     1|   5.0|964980868|Bottle Rocket (1996)|Adventure|Comedy|...|\n",
            "|    110|     1|   4.0|964982176|   Braveheart (1995)|    Action|Drama|War|\n",
            "|    151|     1|   5.0|964984041|      Rob Roy (1995)|Action|Drama|Roma...|\n",
            "|    157|     1|   5.0|964984100|Canadian Bacon (1...|          Comedy|War|\n",
            "|    163|     1|   5.0|964983650|    Desperado (1995)|Action|Romance|We...|\n",
            "|    216|     1|   5.0|964981208|Billy Madison (1995)|              Comedy|\n",
            "|    223|     1|   3.0|964980985|       Clerks (1994)|              Comedy|\n",
            "|    231|     1|   5.0|964981179|Dumb & Dumber (Du...|    Adventure|Comedy|\n",
            "|    235|     1|   4.0|964980908|      Ed Wood (1994)|        Comedy|Drama|\n",
            "|    260|     1|   5.0|964981680|Star Wars: Episod...|Action|Adventure|...|\n",
            "|    296|     1|   3.0|964982967| Pulp Fiction (1994)|Comedy|Crime|Dram...|\n",
            "|    316|     1|   3.0|964982310|     Stargate (1994)|Action|Adventure|...|\n",
            "|    333|     1|   5.0|964981179|    Tommy Boy (1995)|              Comedy|\n",
            "|    349|     1|   4.0|964982563|Clear and Present...|Action|Crime|Dram...|\n",
            "+-------+------+------+---------+--------------------+--------------------+\n",
            "only showing top 20 rows\n",
            "\n"
          ]
        }
      ]
    },
    {
      "cell_type": "markdown",
      "source": [
        "##Train Test Split"
      ],
      "metadata": {
        "id": "L56DPBz5xvUR"
      }
    },
    {
      "cell_type": "code",
      "source": [
        "# Train Test Split\n",
        "\n",
        "(train, test) = df.randomSplit([0.8,0.2])"
      ],
      "metadata": {
        "id": "4TubmSKjxlUo"
      },
      "execution_count": 10,
      "outputs": []
    },
    {
      "cell_type": "code",
      "source": [
        "train.show()"
      ],
      "metadata": {
        "colab": {
          "base_uri": "https://localhost:8080/"
        },
        "id": "SjQW3fcRyra_",
        "outputId": "26243f75-2109-49ef-c481-d2d7ea87c153"
      },
      "execution_count": 11,
      "outputs": [
        {
          "output_type": "stream",
          "name": "stdout",
          "text": [
            "+-------+------+------+----------+----------------+--------------------+\n",
            "|movieId|userId|rating| timestamp|           title|              genres|\n",
            "+-------+------+------+----------+----------------+--------------------+\n",
            "|      1|     1|   4.0| 964982703|Toy Story (1995)|Adventure|Animati...|\n",
            "|      1|     5|   4.0| 847434962|Toy Story (1995)|Adventure|Animati...|\n",
            "|      1|     7|   4.5|1106635946|Toy Story (1995)|Adventure|Animati...|\n",
            "|      1|    15|   2.5|1510577970|Toy Story (1995)|Adventure|Animati...|\n",
            "|      1|    17|   4.5|1305696483|Toy Story (1995)|Adventure|Animati...|\n",
            "|      1|    18|   3.5|1455209816|Toy Story (1995)|Adventure|Animati...|\n",
            "|      1|    19|   4.0| 965705637|Toy Story (1995)|Adventure|Animati...|\n",
            "|      1|    21|   3.5|1407618878|Toy Story (1995)|Adventure|Animati...|\n",
            "|      1|    27|   3.0| 962685262|Toy Story (1995)|Adventure|Animati...|\n",
            "|      1|    31|   5.0| 850466616|Toy Story (1995)|Adventure|Animati...|\n",
            "|      1|    32|   3.0| 856736119|Toy Story (1995)|Adventure|Animati...|\n",
            "|      1|    33|   3.0| 939647444|Toy Story (1995)|Adventure|Animati...|\n",
            "|      1|    40|   5.0| 832058959|Toy Story (1995)|Adventure|Animati...|\n",
            "|      1|    44|   3.0| 869251860|Toy Story (1995)|Adventure|Animati...|\n",
            "|      1|    45|   4.0| 951170182|Toy Story (1995)|Adventure|Animati...|\n",
            "|      1|    46|   5.0| 834787906|Toy Story (1995)|Adventure|Animati...|\n",
            "|      1|    50|   3.0|1514238116|Toy Story (1995)|Adventure|Animati...|\n",
            "|      1|    57|   5.0| 965796031|Toy Story (1995)|Adventure|Animati...|\n",
            "|      1|    63|   5.0|1443199669|Toy Story (1995)|Adventure|Animati...|\n",
            "|      1|    64|   4.0|1161520134|Toy Story (1995)|Adventure|Animati...|\n",
            "+-------+------+------+----------+----------------+--------------------+\n",
            "only showing top 20 rows\n",
            "\n"
          ]
        }
      ]
    },
    {
      "cell_type": "code",
      "source": [
        "test.show()"
      ],
      "metadata": {
        "colab": {
          "base_uri": "https://localhost:8080/"
        },
        "id": "TSYkHfqAyuPg",
        "outputId": "0426fb5e-8e8b-4394-f6d7-67408a279bc3"
      },
      "execution_count": 12,
      "outputs": [
        {
          "output_type": "stream",
          "name": "stdout",
          "text": [
            "+-------+------+------+----------+----------------+--------------------+\n",
            "|movieId|userId|rating| timestamp|           title|              genres|\n",
            "+-------+------+------+----------+----------------+--------------------+\n",
            "|      1|    43|   5.0| 848993983|Toy Story (1995)|Adventure|Animati...|\n",
            "|      1|    54|   3.0| 830247330|Toy Story (1995)|Adventure|Animati...|\n",
            "|      1|    68|   2.5|1158531426|Toy Story (1995)|Adventure|Animati...|\n",
            "|      1|    89|   3.0|1520408314|Toy Story (1995)|Adventure|Animati...|\n",
            "|      1|    90|   3.0| 856353996|Toy Story (1995)|Adventure|Animati...|\n",
            "|      1|   103|   4.0|1431954238|Toy Story (1995)|Adventure|Animati...|\n",
            "|      1|   155|   3.0| 961861723|Toy Story (1995)|Adventure|Animati...|\n",
            "|      1|   160|   4.0| 971115026|Toy Story (1995)|Adventure|Animati...|\n",
            "|      1|   178|   4.0|1164354911|Toy Story (1995)|Adventure|Animati...|\n",
            "|      1|   217|   4.0| 955942540|Toy Story (1995)|Adventure|Animati...|\n",
            "|      1|   264|   4.0|1136978964|Toy Story (1995)|Adventure|Animati...|\n",
            "|      1|   266|   2.0| 945669542|Toy Story (1995)|Adventure|Animati...|\n",
            "|      1|   270|   5.0| 853918728|Toy Story (1995)|Adventure|Animati...|\n",
            "|      1|   280|   4.5|1348435273|Toy Story (1995)|Adventure|Animati...|\n",
            "|      1|   290|   4.0| 975031464|Toy Story (1995)|Adventure|Animati...|\n",
            "|      1|   298|   2.0|1447518257|Toy Story (1995)|Adventure|Animati...|\n",
            "|      1|   307|   4.0|1186160893|Toy Story (1995)|Adventure|Animati...|\n",
            "|      1|   322|   3.5|1217676206|Toy Story (1995)|Adventure|Animati...|\n",
            "|      1|   328|   5.0|1494210665|Toy Story (1995)|Adventure|Animati...|\n",
            "|      1|   336|   4.0|1122227329|Toy Story (1995)|Adventure|Animati...|\n",
            "+-------+------+------+----------+----------------+--------------------+\n",
            "only showing top 20 rows\n",
            "\n"
          ]
        }
      ]
    },
    {
      "cell_type": "code",
      "source": [
        "print(df.count())\n",
        "print(train.count())\n",
        "print(test.count())"
      ],
      "metadata": {
        "colab": {
          "base_uri": "https://localhost:8080/"
        },
        "id": "CdBQUofnyvKz",
        "outputId": "7c96044d-088a-4e47-8618-c9ff12c5c331"
      },
      "execution_count": 13,
      "outputs": [
        {
          "output_type": "stream",
          "name": "stdout",
          "text": [
            "100836\n",
            "80670\n",
            "20166\n"
          ]
        }
      ]
    },
    {
      "cell_type": "markdown",
      "source": [
        "##ALS Model"
      ],
      "metadata": {
        "id": "C4hfUGhDzHVQ"
      }
    },
    {
      "cell_type": "code",
      "source": [
        "from pyspark.ml.recommendation import ALS\n",
        "\n",
        "als = ALS(userCol = \"userId\", itemCol=\"movieId\", ratingCol=\"rating\", nonnegative=True,implicitPrefs=False, coldStartStrategy=\"drop\")"
      ],
      "metadata": {
        "id": "QAKI77PLy4mF"
      },
      "execution_count": 14,
      "outputs": []
    },
    {
      "cell_type": "markdown",
      "source": [
        "##Hyperparameter Tuning & cross validation"
      ],
      "metadata": {
        "id": "whAnbXju05VU"
      }
    },
    {
      "cell_type": "code",
      "source": [
        "from pyspark.ml.evaluation import RegressionEvaluator\n",
        "from pyspark.ml.tuning import ParamGridBuilder, CrossValidator\n",
        "from pyspark.sql.functions import col,explode"
      ],
      "metadata": {
        "id": "PKtUo7Fj1LNf"
      },
      "execution_count": 15,
      "outputs": []
    },
    {
      "cell_type": "code",
      "source": [
        "param_grid = ParamGridBuilder() \\\n",
        "            .addGrid(als.rank, [10, 20, 30, 40]) \\\n",
        "            .addGrid(als.regParam, [.01, .05, .1, .15]) \\\n",
        "            .build()"
      ],
      "metadata": {
        "id": "M9yn5l0Xz42b"
      },
      "execution_count": 20,
      "outputs": []
    },
    {
      "cell_type": "code",
      "source": [
        "\n",
        "# Evaluating\n",
        "\n",
        "evaluator = RegressionEvaluator(\n",
        "           metricName=\"rmse\",\n",
        "           labelCol=\"rating\",\n",
        "           predictionCol=\"prediction\")"
      ],
      "metadata": {
        "id": "dGPnite01lSV"
      },
      "execution_count": 21,
      "outputs": []
    },
    {
      "cell_type": "code",
      "source": [
        "cv = CrossValidator(estimator=als, estimatorParamMaps=param_grid, evaluator=evaluator, numFolds=5)"
      ],
      "metadata": {
        "id": "zDdMOnm-23NA"
      },
      "execution_count": 22,
      "outputs": []
    },
    {
      "cell_type": "markdown",
      "source": [
        "##Best Model & Evaluate Predictions"
      ],
      "metadata": {
        "id": "lX2CEvkR48wO"
      }
    },
    {
      "cell_type": "code",
      "source": [
        "model = cv.fit(train)\n",
        "best_model = model.bestModel\n",
        "test_predictions = best_model.transform(test)\n",
        "RMSE = evaluator.evaluate(test_predictions)\n",
        "print(RMSE)\n",
        ""
      ],
      "metadata": {
        "colab": {
          "base_uri": "https://localhost:8080/"
        },
        "id": "cNuXm56933Vu",
        "outputId": "c3b5c954-d986-4baa-b65f-2f76bec32fa8"
      },
      "execution_count": 23,
      "outputs": [
        {
          "output_type": "stream",
          "name": "stdout",
          "text": [
            "0.8752994159188879\n"
          ]
        }
      ]
    },
    {
      "cell_type": "markdown",
      "source": [
        "##**Recommendations**"
      ],
      "metadata": {
        "id": "KNrXIVFhnzwf"
      }
    },
    {
      "cell_type": "code",
      "source": [
        "recommendations = best_model.recommendForAllUsers(5)"
      ],
      "metadata": {
        "id": "3XmEtTdKkPy_"
      },
      "execution_count": 24,
      "outputs": []
    },
    {
      "cell_type": "code",
      "source": [
        "df = recommendations"
      ],
      "metadata": {
        "id": "bgH7vLRS5hfH"
      },
      "execution_count": 25,
      "outputs": []
    },
    {
      "cell_type": "code",
      "source": [
        "df.show()"
      ],
      "metadata": {
        "colab": {
          "base_uri": "https://localhost:8080/"
        },
        "id": "gf4QuqMS5l06",
        "outputId": "4cc2d2cc-f801-4a02-e7b2-7b831bc91204"
      },
      "execution_count": 29,
      "outputs": [
        {
          "output_type": "stream",
          "name": "stdout",
          "text": [
            "+------+--------------------+\n",
            "|userId|     recommendations|\n",
            "+------+--------------------+\n",
            "|     1|[{33649, 5.784747...|\n",
            "|     2|[{131724, 4.81848...|\n",
            "|     3|[{70946, 4.914021...|\n",
            "|     4|[{3851, 4.8359027...|\n",
            "|     5|[{132333, 4.74675...|\n",
            "|     6|[{33649, 4.958708...|\n",
            "|     7|[{3379, 4.739699}...|\n",
            "|     8|[{3379, 4.9193435...|\n",
            "|     9|[{3379, 4.9858365...|\n",
            "|    10|[{71579, 4.471491...|\n",
            "|    11|[{3379, 4.9135056...|\n",
            "|    12|[{33649, 5.634302...|\n",
            "|    13|[{3379, 5.0063596...|\n",
            "|    14|[{184245, 4.63465...|\n",
            "|    15|[{60943, 4.519983...|\n",
            "|    16|[{3379, 4.47578},...|\n",
            "|    17|[{3379, 5.1395288...|\n",
            "|    18|[{3379, 4.9746757...|\n",
            "|    19|[{3379, 4.059696}...|\n",
            "|    20|[{33649, 5.179686...|\n",
            "+------+--------------------+\n",
            "only showing top 20 rows\n",
            "\n"
          ]
        }
      ]
    },
    {
      "cell_type": "code",
      "source": [
        "df2 = df.withColumn(\"movieid_rating\", explode(\"recommendations\"))"
      ],
      "metadata": {
        "id": "8WSdtXoJ5oyH"
      },
      "execution_count": 27,
      "outputs": []
    },
    {
      "cell_type": "code",
      "source": [
        "\n",
        "df2.show()"
      ],
      "metadata": {
        "colab": {
          "base_uri": "https://localhost:8080/"
        },
        "id": "Zbp8ppEQ5sUt",
        "outputId": "efd89830-a09a-4e6b-88b3-51ae264d9abc"
      },
      "execution_count": 28,
      "outputs": [
        {
          "output_type": "stream",
          "name": "stdout",
          "text": [
            "+------+--------------------+-------------------+\n",
            "|userId|     recommendations|     movieid_rating|\n",
            "+------+--------------------+-------------------+\n",
            "|     1|[{33649, 5.784747...| {33649, 5.7847476}|\n",
            "|     1|[{33649, 5.784747...|   {3379, 5.745195}|\n",
            "|     1|[{33649, 5.784747...|{132333, 5.6550274}|\n",
            "|     1|[{33649, 5.784747...|  {3494, 5.4812136}|\n",
            "|     1|[{33649, 5.784747...| {184245, 5.462358}|\n",
            "|     2|[{131724, 4.81848...|{131724, 4.8184867}|\n",
            "|     2|[{131724, 4.81848...| {33649, 4.7981954}|\n",
            "|     2|[{131724, 4.81848...|  {3379, 4.7182717}|\n",
            "|     2|[{131724, 4.81848...|{184245, 4.6590424}|\n",
            "|     2|[{131724, 4.81848...|{179135, 4.6590424}|\n",
            "|     3|[{70946, 4.914021...|  {70946, 4.914021}|\n",
            "|     3|[{70946, 4.914021...|   {6835, 4.853732}|\n",
            "|     3|[{70946, 4.914021...|   {5919, 4.853732}|\n",
            "|     3|[{70946, 4.914021...|   {5746, 4.853732}|\n",
            "|     3|[{70946, 4.914021...|    {7991, 4.75898}|\n",
            "|     4|[{3851, 4.8359027...|  {3851, 4.8359027}|\n",
            "|     4|[{3851, 4.8359027...|  {3494, 4.7349563}|\n",
            "|     4|[{3851, 4.8359027...|   {1733, 4.688359}|\n",
            "|     4|[{3851, 4.8359027...| {132333, 4.685258}|\n",
            "|     4|[{3851, 4.8359027...|  {4765, 4.6723337}|\n",
            "+------+--------------------+-------------------+\n",
            "only showing top 20 rows\n",
            "\n"
          ]
        }
      ]
    },
    {
      "cell_type": "code",
      "source": [
        "df2.select(\"userId\", col(\"movieid_rating.movieId\"), col(\"movieid_rating.rating\")).show()\n"
      ],
      "metadata": {
        "colab": {
          "base_uri": "https://localhost:8080/"
        },
        "id": "ljwPA0ne5zTF",
        "outputId": "75d39c95-b977-4c4a-f16a-d621c5d272d3"
      },
      "execution_count": 31,
      "outputs": [
        {
          "output_type": "stream",
          "name": "stdout",
          "text": [
            "+------+-------+---------+\n",
            "|userId|movieId|   rating|\n",
            "+------+-------+---------+\n",
            "|     1|  33649|5.7847476|\n",
            "|     1|   3379| 5.745195|\n",
            "|     1| 132333|5.6550274|\n",
            "|     1|   3494|5.4812136|\n",
            "|     1| 184245| 5.462358|\n",
            "|     2| 131724|4.8184867|\n",
            "|     2|  33649|4.7981954|\n",
            "|     2|   3379|4.7182717|\n",
            "|     2| 184245|4.6590424|\n",
            "|     2| 179135|4.6590424|\n",
            "|     3|  70946| 4.914021|\n",
            "|     3|   6835| 4.853732|\n",
            "|     3|   5919| 4.853732|\n",
            "|     3|   5746| 4.853732|\n",
            "|     3|   7991|  4.75898|\n",
            "|     4|   3851|4.8359027|\n",
            "|     4|   3494|4.7349563|\n",
            "|     4|   1733| 4.688359|\n",
            "|     4| 132333| 4.685258|\n",
            "|     4|   4765|4.6723337|\n",
            "+------+-------+---------+\n",
            "only showing top 20 rows\n",
            "\n"
          ]
        }
      ]
    },
    {
      "cell_type": "code",
      "source": [],
      "metadata": {
        "id": "Wi-tGd1A6A3j"
      },
      "execution_count": null,
      "outputs": []
    }
  ]
}